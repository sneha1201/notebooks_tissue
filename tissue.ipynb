{
 "cells": [
  {
   "cell_type": "code",
   "execution_count": 25,
   "id": "22493625-0d9d-4c9a-983c-cb0cfa973006",
   "metadata": {},
   "outputs": [],
   "source": [
    "import pandas as pd\n",
    "import glob\n",
    "from functools import reduce\n",
    "import matplotlib.pyplot as plt\n",
    "import seaborn as sns\n",
    "\n",
    "\n"
   ]
  },
  {
   "cell_type": "code",
   "execution_count": 26,
   "id": "5eb5f770-8fd7-4d9e-9e79-5b33c020f8df",
   "metadata": {},
   "outputs": [],
   "source": [
    "dfs_dict = {}\n",
    "for file in glob.glob('./data/*.bed'):\n",
    "    dfs_dict[file.split(\".\")[1].split(\"/\")[2]] = pd.read_csv(file, sep='\\t')"
   ]
  },
  {
   "cell_type": "code",
   "execution_count": 27,
   "id": "1233a9da-4759-45da-89de-4f9eb70cde28",
   "metadata": {},
   "outputs": [],
   "source": [
    "merged_df = pd.DataFrame()\n",
    "count = 0\n",
    "for filename in dfs_dict:\n",
    "    count = count + 1\n",
    "    file1 =''\n",
    "    if(count == 1):\n",
    "        merged_df = dfs_dict[filename]\n",
    "        file1 = \"AF\"+\"_\"+filename\n",
    "        merged_df = merged_df.rename(columns={\"AF\": file1})\n",
    "        merged_df[\"AF\"] = \"\"\n",
    "    else:\n",
    "        if(count == 2):\n",
    "            merged_df=pd.merge(merged_df, dfs_dict[filename]  , on = ['chr', 'start', 'end', 'ref', 'alt' ], suffixes=[file1, '_'+filename])\n",
    "        else:\n",
    "            merged_df=pd.merge(merged_df, dfs_dict[filename]  , on = ['chr', 'start', 'end', 'ref', 'alt' ], suffixes=['', '_'+filename])\n",
    "    \n",
    "        "
   ]
  },
  {
   "cell_type": "code",
   "execution_count": null,
   "id": "23306a42-5e6e-4974-9844-a17ea68a4bfa",
   "metadata": {},
   "outputs": [],
   "source": []
  },
  {
   "cell_type": "code",
   "execution_count": 28,
   "id": "36da47da-cddc-4f69-b575-542607a9918f",
   "metadata": {},
   "outputs": [],
   "source": [
    "numric_df = merged_df.loc[:, ~merged_df.columns.isin(['start', 'end', 'chr', 'end', 'ref', 'alt', 'AF'])]"
   ]
  },
  {
   "cell_type": "code",
   "execution_count": 30,
   "id": "5ecbdc1a-8b23-4d85-9267-d8d097e87c9c",
   "metadata": {},
   "outputs": [],
   "source": [
    "mean_arr = numric_df.mean()\n",
    "mean_dict = {}\n",
    "for i in range(len(mean_arr)):\n",
    "    tissue = mean_arr.index[i].split(\"_\")[1]\n",
    "    sample = mean_arr.index[i].split(\"_\")[2]\n",
    "    mean_value = mean_arr[i]\n",
    "    if sample in mean_dict.keys():\n",
    "        mean_dict[sample][tissue] = mean_value\n",
    "    else:\n",
    "        mean_dict[sample] = {}\n",
    "        mean_dict[sample][tissue] = mean_value\n",
    "        \n",
    "    \n"
   ]
  },
  {
   "cell_type": "code",
   "execution_count": 31,
   "id": "3cf96ba8-82a0-4dc0-8e97-f090ab8f7b18",
   "metadata": {},
   "outputs": [],
   "source": [
    "mean_matrix = pd.DataFrame.from_dict(mean_dict)"
   ]
  },
  {
   "cell_type": "code",
   "execution_count": 32,
   "id": "3df5f394-dd7e-4527-a0af-2fbaaea7461a",
   "metadata": {},
   "outputs": [
    {
     "data": {
      "text/html": [
       "<div>\n",
       "<style scoped>\n",
       "    .dataframe tbody tr th:only-of-type {\n",
       "        vertical-align: middle;\n",
       "    }\n",
       "\n",
       "    .dataframe tbody tr th {\n",
       "        vertical-align: top;\n",
       "    }\n",
       "\n",
       "    .dataframe thead th {\n",
       "        text-align: right;\n",
       "    }\n",
       "</style>\n",
       "<table border=\"1\" class=\"dataframe\">\n",
       "  <thead>\n",
       "    <tr style=\"text-align: right;\">\n",
       "      <th></th>\n",
       "      <th>sample006</th>\n",
       "      <th>sample001</th>\n",
       "      <th>sample002</th>\n",
       "      <th>sample007</th>\n",
       "      <th>sample005</th>\n",
       "      <th>sample004</th>\n",
       "      <th>sample003</th>\n",
       "      <th>sample009</th>\n",
       "      <th>sample010</th>\n",
       "      <th>sample008</th>\n",
       "    </tr>\n",
       "  </thead>\n",
       "  <tbody>\n",
       "    <tr>\n",
       "      <th>tissue005</th>\n",
       "      <td>0.184375</td>\n",
       "      <td>0.190625</td>\n",
       "      <td>0.195893</td>\n",
       "      <td>0.192500</td>\n",
       "      <td>0.202679</td>\n",
       "      <td>0.200446</td>\n",
       "      <td>0.222411</td>\n",
       "      <td>0.204286</td>\n",
       "      <td>0.204375</td>\n",
       "      <td>0.220089</td>\n",
       "    </tr>\n",
       "    <tr>\n",
       "      <th>tissue003</th>\n",
       "      <td>0.516071</td>\n",
       "      <td>0.491964</td>\n",
       "      <td>0.516339</td>\n",
       "      <td>0.489107</td>\n",
       "      <td>0.496696</td>\n",
       "      <td>0.498125</td>\n",
       "      <td>0.501071</td>\n",
       "      <td>0.502054</td>\n",
       "      <td>0.478393</td>\n",
       "      <td>0.493571</td>\n",
       "    </tr>\n",
       "    <tr>\n",
       "      <th>tissue004</th>\n",
       "      <td>0.500089</td>\n",
       "      <td>0.504643</td>\n",
       "      <td>0.501875</td>\n",
       "      <td>0.497321</td>\n",
       "      <td>0.505446</td>\n",
       "      <td>0.497768</td>\n",
       "      <td>0.491250</td>\n",
       "      <td>0.505982</td>\n",
       "      <td>0.501607</td>\n",
       "      <td>0.491518</td>\n",
       "    </tr>\n",
       "    <tr>\n",
       "      <th>tissue001</th>\n",
       "      <td>0.720268</td>\n",
       "      <td>0.693661</td>\n",
       "      <td>0.687946</td>\n",
       "      <td>0.696429</td>\n",
       "      <td>0.704821</td>\n",
       "      <td>0.690536</td>\n",
       "      <td>0.718304</td>\n",
       "      <td>0.694732</td>\n",
       "      <td>0.697946</td>\n",
       "      <td>0.692232</td>\n",
       "    </tr>\n",
       "    <tr>\n",
       "      <th>tissue002</th>\n",
       "      <td>0.497054</td>\n",
       "      <td>0.503125</td>\n",
       "      <td>0.479554</td>\n",
       "      <td>0.512768</td>\n",
       "      <td>0.525268</td>\n",
       "      <td>0.501429</td>\n",
       "      <td>0.507589</td>\n",
       "      <td>0.503929</td>\n",
       "      <td>0.504732</td>\n",
       "      <td>0.479554</td>\n",
       "    </tr>\n",
       "  </tbody>\n",
       "</table>\n",
       "</div>"
      ],
      "text/plain": [
       "           sample006  sample001  sample002  sample007  sample005  sample004  \\\n",
       "tissue005   0.184375   0.190625   0.195893   0.192500   0.202679   0.200446   \n",
       "tissue003   0.516071   0.491964   0.516339   0.489107   0.496696   0.498125   \n",
       "tissue004   0.500089   0.504643   0.501875   0.497321   0.505446   0.497768   \n",
       "tissue001   0.720268   0.693661   0.687946   0.696429   0.704821   0.690536   \n",
       "tissue002   0.497054   0.503125   0.479554   0.512768   0.525268   0.501429   \n",
       "\n",
       "           sample003  sample009  sample010  sample008  \n",
       "tissue005   0.222411   0.204286   0.204375   0.220089  \n",
       "tissue003   0.501071   0.502054   0.478393   0.493571  \n",
       "tissue004   0.491250   0.505982   0.501607   0.491518  \n",
       "tissue001   0.718304   0.694732   0.697946   0.692232  \n",
       "tissue002   0.507589   0.503929   0.504732   0.479554  "
      ]
     },
     "execution_count": 32,
     "metadata": {},
     "output_type": "execute_result"
    }
   ],
   "source": [
    "mean_matrix"
   ]
  },
  {
   "cell_type": "code",
   "execution_count": 33,
   "id": "e9c9344e-3c51-4e0b-a91f-e32f0f8332b3",
   "metadata": {},
   "outputs": [
    {
     "data": {
      "image/png": "[encoded data removed]",
      "text/plain": [
       "<Figure size 432x288 with 1 Axes>"
      ]
     },
     "metadata": {
      "needs_background": "light"
     },
     "output_type": "display_data"
    }
   ],
   "source": [
    "boxplot = numric_df.boxplot()"
   ]
  },
  {
   "cell_type": "code",
   "execution_count": 34,
   "id": "09315f30-42ae-493b-89bf-f7a33cf678c1",
   "metadata": {},
   "outputs": [],
   "source": [
    "plt.show()"
   ]
  },
  {
   "cell_type": "code",
   "execution_count": 35,
   "id": "a6a89705-ce04-48d8-9701-3bba10f5afd6",
   "metadata": {},
   "outputs": [
    {
     "data": {
      "image/png": "[encoded data removed]",
      "text/plain": [
       "<Figure size 432x288 with 2 Axes>"
      ]
     },
     "metadata": {
      "needs_background": "light"
     },
     "output_type": "display_data"
    }
   ],
   "source": [
    "sns.heatmap(mean_matrix, annot=True)\n",
    "plt.show()"
   ]
  },
  {
   "cell_type": "markdown",
   "id": "641f0a4b-3915-4c3c-8a3c-bdaa3fdb9d00",
   "metadata": {},
   "source": [
    "## Ans 4.1 From heat map, it is clear that tissue 1 has on average highest AFs and tissue 5 on average have low AFs"
   ]
  },
  {
   "cell_type": "code",
   "execution_count": 36,
   "id": "1dae9fc4-aa6e-4357-b7b8-319f3d493f3d",
   "metadata": {},
   "outputs": [
    {
     "data": {
      "text/plain": [
       "Ttest_indResult(statistic=94.99207416577323, pvalue=9.119166628913645e-26)"
      ]
     },
     "execution_count": 36,
     "metadata": {},
     "output_type": "execute_result"
    }
   ],
   "source": [
    "from scipy.stats import ttest_ind\n",
    "ttest_ind(mean_matrix.loc['tissue001'], mean_matrix.loc['tissue005'])"
   ]
  },
  {
   "cell_type": "markdown",
   "id": "cc903178-1504-4366-97bd-1b60cb56ce48",
   "metadata": {},
   "source": [
    "## Higher t score value shows that sample set are significantly different.  \n"
   ]
  },
  {
   "cell_type": "code",
   "execution_count": null,
   "id": "5bd2dec2-867d-4b99-9341-8ed556ee2a30",
   "metadata": {},
   "outputs": [],
   "source": []
  },
  {
   "cell_type": "code",
   "execution_count": null,
   "id": "dc504ad5-0223-4a2e-8420-fb4fd8b23097",
   "metadata": {},
   "outputs": [],
   "source": []
  },
  {
   "cell_type": "code",
   "execution_count": 20,
   "id": "7d8d96f4-0cfc-456f-a409-8c62ec95b41b",
   "metadata": {},
   "outputs": [
    {
     "data": {
      "text/plain": [
       "50"
      ]
     },
     "execution_count": 20,
     "metadata": {},
     "output_type": "execute_result"
    }
   ],
   "source": []
  },
  {
   "cell_type": "code",
   "execution_count": null,
   "id": "a6b1657e-0b59-4bdb-8154-3cf86c07bab9",
   "metadata": {},
   "outputs": [],
   "source": []
  }
 ],
 "metadata": {
  "kernelspec": {
   "display_name": "Python 3 (ipykernel)",
   "language": "python",
   "name": "python3"
  },
  "language_info": {
   "codemirror_mode": {
    "name": "ipython",
    "version": 3
   },
   "file_extension": ".py",
   "mimetype": "text/x-python",
   "name": "python",
   "nbconvert_exporter": "python",
   "pygments_lexer": "ipython3",
   "version": "3.7.12"
  }
 },
 "nbformat": 4,
 "nbformat_minor": 5
}
